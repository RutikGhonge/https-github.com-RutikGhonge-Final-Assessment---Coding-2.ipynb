{
 "cells": [
  {
   "cell_type": "raw",
   "id": "af8c8733",
   "metadata": {},
   "source": [
    "Find nth fibonacci number. If it starts with 0,1,1,2.....\n",
    "\n",
    "Also, Print Incorrect Input if n is less than or equal to 0."
   ]
  },
  {
   "cell_type": "code",
   "execution_count": 11,
   "id": "50436670",
   "metadata": {},
   "outputs": [
    {
     "name": "stdout",
     "output_type": "stream",
     "text": [
      "10\n",
      "34\n"
     ]
    }
   ],
   "source": [
    "def fibonacci(n):\n",
    "    if n <= 0:\n",
    "        return \"Incorrect Input\"\n",
    "    p = [0, 1]\n",
    "    if n > 2:\n",
    "        for i in range(2, n):\n",
    "            p.append(p[i-1] + p[i-2])\n",
    "    return p[n-1]\n",
    " \n",
    "\n",
    "\n",
    "print(fibonacci(int(input())))"
   ]
  },
  {
   "cell_type": "code",
   "execution_count": null,
   "id": "f3ea155f",
   "metadata": {},
   "outputs": [],
   "source": []
  },
  {
   "cell_type": "code",
   "execution_count": null,
   "id": "a1535286",
   "metadata": {},
   "outputs": [],
   "source": []
  }
 ],
 "metadata": {
  "kernelspec": {
   "display_name": "Python 3 (ipykernel)",
   "language": "python",
   "name": "python3"
  },
  "language_info": {
   "codemirror_mode": {
    "name": "ipython",
    "version": 3
   },
   "file_extension": ".py",
   "mimetype": "text/x-python",
   "name": "python",
   "nbconvert_exporter": "python",
   "pygments_lexer": "ipython3",
   "version": "3.10.0"
  }
 },
 "nbformat": 4,
 "nbformat_minor": 5
}
